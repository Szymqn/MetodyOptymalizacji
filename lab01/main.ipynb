{
 "cells": [
  {
   "cell_type": "markdown",
   "source": [
    "Imports"
   ],
   "metadata": {
    "collapsed": false
   },
   "id": "f228d7dd465d23b5"
  },
  {
   "cell_type": "code",
   "outputs": [],
   "source": [
    "import matplotlib.pyplot as plt\n",
    "import numpy as np"
   ],
   "metadata": {
    "collapsed": false,
    "ExecuteTime": {
     "end_time": "2024-02-28T15:52:22.863193300Z",
     "start_time": "2024-02-28T15:52:22.505495800Z"
    }
   },
   "id": "d4f9dfeadf6b474a",
   "execution_count": 1
  },
  {
   "cell_type": "markdown",
   "source": [
    "Global variables"
   ],
   "metadata": {
    "collapsed": false
   },
   "id": "db77aea21b9cf7fa"
  },
  {
   "cell_type": "code",
   "execution_count": 2,
   "id": "initial_id",
   "metadata": {
    "collapsed": true,
    "ExecuteTime": {
     "end_time": "2024-02-28T15:52:22.872218100Z",
     "start_time": "2024-02-28T15:52:22.866194800Z"
    }
   },
   "outputs": [],
   "source": [
    "A = 1\n",
    "B = 6\n",
    "EPSILON = 0.1\n",
    "MAX_ITERATIONS = 100"
   ]
  },
  {
   "cell_type": "code",
   "outputs": [],
   "source": [
    "x_sr = (A + B) / 2\n",
    "L = B - A\n",
    "x_1 = A + (L / 4)\n",
    "x_2 = B - (L / 4)"
   ],
   "metadata": {
    "collapsed": false,
    "ExecuteTime": {
     "end_time": "2024-02-28T15:52:22.883950500Z",
     "start_time": "2024-02-28T15:52:22.872218100Z"
    }
   },
   "id": "8a681e6184fc966c",
   "execution_count": 3
  },
  {
   "cell_type": "markdown",
   "source": [
    "Function of one variable"
   ],
   "metadata": {
    "collapsed": false
   },
   "id": "9f4168cdf3a02735"
  },
  {
   "cell_type": "code",
   "outputs": [],
   "source": [
    "def f(x):\n",
    "    return 2 * x ** 3 + 3 * x ** 2 - 48 * x + 13"
   ],
   "metadata": {
    "collapsed": false,
    "ExecuteTime": {
     "end_time": "2024-02-28T15:52:22.884949600Z",
     "start_time": "2024-02-28T15:52:22.877600300Z"
    }
   },
   "id": "a33d7ce958034ffa",
   "execution_count": 4
  },
  {
   "cell_type": "code",
   "outputs": [],
   "source": [
    "def max(a=A, b=B, epsilon=EPSILON, iterations=MAX_ITERATIONS):\n",
    "    iter = 0\n",
    "    x_sr = (a + b) / 2\n",
    "    l = b - a\n",
    "    fx_sr=f(x_sr)\n",
    "    \n",
    "    while l > epsilon and iter < iterations:\n",
    "        x_1 = a + (l / 4)\n",
    "        x_2 = b - (l / 4)\n",
    "        \n",
    "        fx_1 = f(x_1)\n",
    "        fx_2 = f(x_2)\n",
    "        \n",
    "        if fx_1 > fx_sr:\n",
    "            b = x_sr\n",
    "            x_sr = x_1\n",
    "        else:\n",
    "            if fx_2 > fx_sr:\n",
    "                a = x_sr\n",
    "                x_sr = x_2\n",
    "            else:\n",
    "                a = x_1\n",
    "                b = x_2\n",
    "        \n",
    "        l = b - a\n",
    "        fx_sr = f(x_sr)\n",
    "        iter += 1\n",
    "    \n",
    "    return x_sr, fx_sr"
   ],
   "metadata": {
    "collapsed": false,
    "ExecuteTime": {
     "end_time": "2024-02-28T15:52:22.892282800Z",
     "start_time": "2024-02-28T15:52:22.884949600Z"
    }
   },
   "id": "56fc8b790263eba",
   "execution_count": 5
  },
  {
   "cell_type": "code",
   "outputs": [],
   "source": [
    "def min(a=A, b=B, epsilon=EPSILON, iterations=MAX_ITERATIONS):\n",
    "    iter = 0\n",
    "    x_sr = (a + b) / 2\n",
    "    l = b - a\n",
    "    fx_sr=f(x_sr)\n",
    "    \n",
    "    while (b - a) > epsilon and iter < iterations:\n",
    "        x_1 = a + (l / 4)\n",
    "        x_2 = b - (l / 4)\n",
    "        \n",
    "        fx_1 = f(x_1)\n",
    "        fx_2 = f(x_2)\n",
    "        \n",
    "        if fx_1 < fx_sr:\n",
    "            b = x_sr\n",
    "            x_sr = x_1\n",
    "        else:\n",
    "            if fx_2 < fx_sr:\n",
    "                a = x_sr\n",
    "                x_sr = x_2\n",
    "            else:\n",
    "                a = x_1\n",
    "                b = x_2\n",
    "        \n",
    "        l = b - a\n",
    "        fx_sr = f(x_sr)\n",
    "        iter += 1\n",
    "    \n",
    "    return x_sr, fx_sr"
   ],
   "metadata": {
    "collapsed": false,
    "ExecuteTime": {
     "end_time": "2024-02-28T15:52:22.916704400Z",
     "start_time": "2024-02-28T15:52:22.894284700Z"
    }
   },
   "id": "4a5e681054899e67",
   "execution_count": 6
  },
  {
   "cell_type": "code",
   "outputs": [
    {
     "data": {
      "text/plain": "<Figure size 640x480 with 1 Axes>",
      "image/png": "[encoded data removed]"
     },
     "metadata": {},
     "output_type": "display_data"
    },
    {
     "name": "stdout",
     "output_type": "stream",
     "text": [
      "f(x_1) = 2.25, f(x_sr) = 3.5, f(x_2) = 4.75\n"
     ]
    }
   ],
   "source": [
    "x = np.linspace(A, B, 1000)\n",
    "y = f(x)\n",
    "plt.plot(x, y)\n",
    "plt.scatter(x_sr, f(x_sr), color='red', label='f(x_sr)')\n",
    "plt.scatter(x_1, f(x_1), color='green', label='f(x_1)')\n",
    "plt.scatter(x_2, f(x_2), color='blue', label='f(x_2)')\n",
    "plt.legend()\n",
    "plt.show()\n",
    "\n",
    "print(f\"f(x_1) = {x_1}, f(x_sr) = {x_sr}, f(x_2) = {x_2}\")"
   ],
   "metadata": {
    "collapsed": false,
    "ExecuteTime": {
     "end_time": "2024-02-28T15:52:23.047756300Z",
     "start_time": "2024-02-28T15:52:22.901885800Z"
    }
   },
   "id": "d2399050d7d008b0",
   "execution_count": 7
  },
  {
   "cell_type": "code",
   "outputs": [
    {
     "data": {
      "text/plain": "(5.9609375, 257.0906400680542)"
     },
     "execution_count": 8,
     "metadata": {},
     "output_type": "execute_result"
    }
   ],
   "source": [
    "max()"
   ],
   "metadata": {
    "collapsed": false,
    "ExecuteTime": {
     "end_time": "2024-02-28T15:52:23.048547Z",
     "start_time": "2024-02-28T15:52:23.042110200Z"
    }
   },
   "id": "62bc768124fbaf32",
   "execution_count": 8
  },
  {
   "cell_type": "code",
   "outputs": [
    {
     "data": {
      "text/plain": "(2.3671875, -57.284836769104004)"
     },
     "execution_count": 9,
     "metadata": {},
     "output_type": "execute_result"
    }
   ],
   "source": [
    "min()"
   ],
   "metadata": {
    "collapsed": false,
    "ExecuteTime": {
     "end_time": "2024-02-28T15:52:23.056325600Z",
     "start_time": "2024-02-28T15:52:23.049553800Z"
    }
   },
   "id": "b85a3cadb92bd91f",
   "execution_count": 9
  }
 ],
 "metadata": {
  "kernelspec": {
   "display_name": "Python 3",
   "language": "python",
   "name": "python3"
  },
  "language_info": {
   "codemirror_mode": {
    "name": "ipython",
    "version": 2
   },
   "file_extension": ".py",
   "mimetype": "text/x-python",
   "name": "python",
   "nbconvert_exporter": "python",
   "pygments_lexer": "ipython2",
   "version": "2.7.6"
  }
 },
 "nbformat": 4,
 "nbformat_minor": 5
}
