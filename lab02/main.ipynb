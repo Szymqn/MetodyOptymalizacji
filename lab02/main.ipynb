{
 "cells": [
  {
   "cell_type": "markdown",
   "source": [
    "Global variables"
   ],
   "metadata": {
    "collapsed": false
   },
   "id": "622bedc1f13ca6f"
  },
  {
   "cell_type": "code",
   "outputs": [],
   "source": [
    "A = 1\n",
    "B = 6\n",
    "EPSILON = 0.001"
   ],
   "metadata": {
    "collapsed": false,
    "ExecuteTime": {
     "end_time": "2024-03-07T20:00:28.869078100Z",
     "start_time": "2024-03-07T20:00:28.864533400Z"
    }
   },
   "id": "8872214c0de9a251",
   "execution_count": 2
  },
  {
   "cell_type": "markdown",
   "source": [],
   "metadata": {
    "collapsed": false
   },
   "id": "c4273d59d384843e"
  },
  {
   "cell_type": "markdown",
   "source": [
    "Function of one variable"
   ],
   "metadata": {
    "collapsed": false
   },
   "id": "5364d8d0cd4414eb"
  },
  {
   "cell_type": "code",
   "outputs": [],
   "source": [
    "def f(x):\n",
    "    return 2 * x ** 3 + 3 * x ** 2 - 48 * x + 13"
   ],
   "metadata": {
    "collapsed": false,
    "ExecuteTime": {
     "end_time": "2024-03-07T20:00:28.878665700Z",
     "start_time": "2024-03-07T20:00:28.872077800Z"
    }
   },
   "id": "ed39288f9fc62e36",
   "execution_count": 3
  },
  {
   "cell_type": "code",
   "outputs": [],
   "source": [
    "def max(x_1, x_2, n, a=A, b=B, epsilon=EPSILON):\n",
    "    while abs(x_2 - x_1) >= epsilon and n > 1:\n",
    "        if f(x_1) > f(x_2):\n",
    "            b = x_2\n",
    "            x_2 = x_1\n",
    "            n -= 1\n",
    "            x_1 = b - (f(n-1) / f(n)) * (b - a)\n",
    "        else:\n",
    "            a = x_1\n",
    "            x_1 = x_2\n",
    "            n -= 1\n",
    "            x_2 = a + (f(n-1) / f(n)) * (b - a)\n",
    "    \n",
    "    return round((a + b) / 2, 6)"
   ],
   "metadata": {
    "collapsed": false,
    "ExecuteTime": {
     "end_time": "2024-03-07T20:00:28.884656400Z",
     "start_time": "2024-03-07T20:00:28.881145500Z"
    }
   },
   "id": "bfa0640c8efc0848",
   "execution_count": 4
  },
  {
   "cell_type": "code",
   "outputs": [],
   "source": [
    "def min(x_1, x_2, n, a=A, b=B, epsilon=EPSILON):\n",
    "    while abs(x_2 - x_1) >= epsilon and n > 1:\n",
    "        if f(x_1) < f(x_2):\n",
    "            b = x_2\n",
    "            x_2 = x_1\n",
    "            n -= 1\n",
    "            x_1 = b - (f(n-1) / f(n)) * (b - a)\n",
    "        else:\n",
    "            a = x_1\n",
    "            x_1 = x_2\n",
    "            n -= 1\n",
    "            x_2 = a + (f(n-1) / f(n)) * (b - a)\n",
    "    \n",
    "    return round((a + b) / 2, 6)"
   ],
   "metadata": {
    "collapsed": false,
    "ExecuteTime": {
     "end_time": "2024-03-07T20:00:28.903914100Z",
     "start_time": "2024-03-07T20:00:28.887614400Z"
    }
   },
   "id": "8227c6e9245fe356",
   "execution_count": 5
  },
  {
   "cell_type": "code",
   "outputs": [
    {
     "data": {
      "text/plain": "4"
     },
     "execution_count": 6,
     "metadata": {},
     "output_type": "execute_result"
    }
   ],
   "source": [
    "n = 2 \n",
    "\n",
    "while True:\n",
    "    if (B - A) / f(n) >= 2 * EPSILON:\n",
    "        n -= 1\n",
    "        break\n",
    "    n += 1\n",
    "\n",
    "n"
   ],
   "metadata": {
    "collapsed": false,
    "ExecuteTime": {
     "end_time": "2024-03-07T20:00:28.903914100Z",
     "start_time": "2024-03-07T20:00:28.894009300Z"
    }
   },
   "id": "38517d1430fb9117",
   "execution_count": 6
  },
  {
   "cell_type": "code",
   "outputs": [],
   "source": [
    "x_1 = B - ((f(n-1) / f(n)) * (B - A))\n",
    "x_2 = A + ((f(n-1) / f(n)) * (B - A))"
   ],
   "metadata": {
    "collapsed": false,
    "ExecuteTime": {
     "end_time": "2024-03-07T20:00:28.911425100Z",
     "start_time": "2024-03-07T20:00:28.904914300Z"
    }
   },
   "id": "8a44979635fa9b32",
   "execution_count": 7
  },
  {
   "cell_type": "code",
   "outputs": [
    {
     "data": {
      "text/plain": "-10.666667"
     },
     "execution_count": 8,
     "metadata": {},
     "output_type": "execute_result"
    }
   ],
   "source": [
    "max(x_1, x_2, n)"
   ],
   "metadata": {
    "collapsed": false,
    "ExecuteTime": {
     "end_time": "2024-03-07T20:00:28.972515700Z",
     "start_time": "2024-03-07T20:00:28.909425100Z"
    }
   },
   "id": "9f51ec5d4f556a46",
   "execution_count": 8
  },
  {
   "cell_type": "code",
   "outputs": [
    {
     "data": {
      "text/plain": "17.666667"
     },
     "execution_count": 9,
     "metadata": {},
     "output_type": "execute_result"
    }
   ],
   "source": [
    "min(x_1, x_2, n)"
   ],
   "metadata": {
    "collapsed": false,
    "ExecuteTime": {
     "end_time": "2024-03-07T20:00:28.973515600Z",
     "start_time": "2024-03-07T20:00:28.920482300Z"
    }
   },
   "id": "a37e3583aa6d15c5",
   "execution_count": 9
  }
 ],
 "metadata": {
  "kernelspec": {
   "display_name": "Python 3",
   "language": "python",
   "name": "python3"
  },
  "language_info": {
   "codemirror_mode": {
    "name": "ipython",
    "version": 2
   },
   "file_extension": ".py",
   "mimetype": "text/x-python",
   "name": "python",
   "nbconvert_exporter": "python",
   "pygments_lexer": "ipython2",
   "version": "2.7.6"
  }
 },
 "nbformat": 4,
 "nbformat_minor": 5
}
