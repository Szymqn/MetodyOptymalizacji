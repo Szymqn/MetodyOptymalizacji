{
 "cells": [
  {
   "cell_type": "markdown",
   "source": [
    "Imports"
   ],
   "metadata": {
    "collapsed": false
   },
   "id": "4e7f83c884618fc1"
  },
  {
   "cell_type": "code",
   "execution_count": null,
   "id": "initial_id",
   "metadata": {
    "collapsed": true,
    "is_executing": true
   },
   "outputs": [],
   "source": [
    "import numpy as np\n",
    "from package_.plots import plot_two_variables_with_start_point"
   ]
  },
  {
   "cell_type": "code",
   "outputs": [],
   "source": [
    "f = lambda x, y: 4 ** 3 + y ** 2 - 6 * x * y - y + 7\n",
    "START_X = 4\n",
    "START_Y = 4\n",
    "EPSILON = 0.001"
   ],
   "metadata": {
    "collapsed": false,
    "ExecuteTime": {
     "end_time": "2024-04-15T22:27:14.338007100Z",
     "start_time": "2024-04-15T22:27:14.327861300Z"
    }
   },
   "id": "b3e137ab9fb778be",
   "execution_count": 1
  },
  {
   "cell_type": "code",
   "outputs": [
    {
     "ename": "NameError",
     "evalue": "name 'plot_two_variables_with_start_point' is not defined",
     "output_type": "error",
     "traceback": [
      "\u001B[1;31m---------------------------------------------------------------------------\u001B[0m",
      "\u001B[1;31mNameError\u001B[0m                                 Traceback (most recent call last)",
      "Cell \u001B[1;32mIn[2], line 1\u001B[0m\n\u001B[1;32m----> 1\u001B[0m \u001B[43mplot_two_variables_with_start_point\u001B[49m(START_X, START_Y, f)\n",
      "\u001B[1;31mNameError\u001B[0m: name 'plot_two_variables_with_start_point' is not defined"
     ]
    }
   ],
   "source": [
    "plot_two_variables_with_start_point(START_X, START_Y, f)"
   ],
   "metadata": {
    "collapsed": false,
    "ExecuteTime": {
     "end_time": "2024-04-15T22:27:14.523626400Z",
     "start_time": "2024-04-15T22:27:14.340267500Z"
    }
   },
   "id": "dc5555ddd152253b",
   "execution_count": 2
  },
  {
   "cell_type": "code",
   "outputs": [],
   "source": [
    "def gradient_descent_3d(f, initial_point, epsilon):\n",
    "    x, y = initial_point\n",
    "    \n",
    "    def gradient(f, x, y):\n",
    "        df_dx = (f(x + epsilon, y) - f(x, y)) / epsilon\n",
    "        df_dy = (f(x, y + epsilon) - f(x, y)) / epsilon\n",
    "        return np.array([df_dx, df_dy])\n",
    "        \n",
    "    def hessian(f, x, y):\n",
    "        df_dx = (f(x + 2 * epsilon, y) - 2 * f(x + epsilon, y) + f(x, y)) / (epsilon ** 2)\n",
    "        df_dy = (f(x, y + 2 * epsilon) - 2 * f(x, y + epsilon) + f(x, y)) / (epsilon ** 2)\n",
    "        df_dxy = (f(x + epsilon, y + epsilon) - f(x + epsilon, y) - f(x, y + epsilon) + f(x, y)) / (epsilon ** 2)\n",
    "        \n",
    "        return np.array([[df_dx, df_dxy], [df_dxy, df_dy]])\n",
    "        \n",
    "    while True:\n",
    "        grad = gradient(f, x, y)\n",
    "        if np.linalg.norm(grad) <= epsilon:\n",
    "            break\n",
    "        \n",
    "        H_inv = np.linalg.inv(hessian(f, x, y))\n",
    "        delta = -H_inv.dot(grad)\n",
    "        \n",
    "        x_next, y_next = x + delta[0], y + delta[1]\n",
    "        \n",
    "        if abs(x_next - x) <= epsilon or abs(y_next - y) <= epsilon:\n",
    "            break\n",
    "        \n",
    "        x, y = round(x_next, 6), round(y_next, 6)\n",
    "        plot_two_variables_with_start_point(x, y, f)\n",
    "    \n",
    "    return x, y"
   ],
   "metadata": {
    "collapsed": false,
    "ExecuteTime": {
     "end_time": "2024-04-15T22:27:14.527854100Z",
     "start_time": "2024-04-15T22:27:14.526788700Z"
    }
   },
   "id": "fc1aceef55f61db5",
   "execution_count": null
  },
  {
   "cell_type": "code",
   "outputs": [],
   "source": [
    "gradient_descent_3d(f, [START_X, START_Y], EPSILON)"
   ],
   "metadata": {
    "collapsed": false,
    "ExecuteTime": {
     "start_time": "2024-04-15T22:27:14.528940400Z"
    }
   },
   "id": "39655908fdaca412",
   "execution_count": null
  }
 ],
 "metadata": {
  "kernelspec": {
   "display_name": "Python 3",
   "language": "python",
   "name": "python3"
  },
  "language_info": {
   "codemirror_mode": {
    "name": "ipython",
    "version": 2
   },
   "file_extension": ".py",
   "mimetype": "text/x-python",
   "name": "python",
   "nbconvert_exporter": "python",
   "pygments_lexer": "ipython2",
   "version": "2.7.6"
  }
 },
 "nbformat": 4,
 "nbformat_minor": 5
}
