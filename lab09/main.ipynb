{
 "cells": [
  {
   "cell_type": "code",
   "outputs": [],
   "source": [
    "import numpy as np\n",
    "import matplotlib.pyplot as plt"
   ],
   "metadata": {
    "collapsed": false,
    "ExecuteTime": {
     "end_time": "2024-06-08T22:05:46.815050800Z",
     "start_time": "2024-06-08T22:05:46.806305400Z"
    }
   },
   "id": "cda03cab16bcfeea",
   "execution_count": 11
  },
  {
   "cell_type": "code",
   "outputs": [],
   "source": [
    "# f = lambda x, y: 4 ** 3 + y ** 2 - 6 * x * y - y + 7\n",
    "# START_X = 4\n",
    "# START_Y = 4\n",
    "# EPSILON = 0.00001"
   ],
   "metadata": {
    "collapsed": false,
    "ExecuteTime": {
     "end_time": "2024-06-08T22:05:46.825560800Z",
     "start_time": "2024-06-08T22:05:46.817429300Z"
    }
   },
   "id": "beed4c61fe3ccf79",
   "execution_count": 12
  },
  {
   "cell_type": "code",
   "outputs": [],
   "source": [
    "# def func(x, y):\n",
    "#     return 2.5 * (x * x - y) * (x * x - y) + (1 - x) * (1 - x)"
   ],
   "metadata": {
    "collapsed": false,
    "ExecuteTime": {
     "end_time": "2024-06-08T22:05:46.827745200Z",
     "start_time": "2024-06-08T22:05:46.822385Z"
    }
   },
   "id": "6778af9b043e501",
   "execution_count": 13
  },
  {
   "cell_type": "code",
   "outputs": [],
   "source": [
    "def func(x, y):\n",
    "    return 4 * x ** 3 + y ** 2 - 6 * x * y - y + 7"
   ],
   "metadata": {
    "collapsed": false,
    "ExecuteTime": {
     "end_time": "2024-06-08T22:05:46.851978700Z",
     "start_time": "2024-06-08T22:05:46.829918200Z"
    }
   },
   "id": "2ccb35b37d34a446",
   "execution_count": 14
  },
  {
   "cell_type": "code",
   "execution_count": 15,
   "id": "initial_id",
   "metadata": {
    "collapsed": true,
    "ExecuteTime": {
     "end_time": "2024-06-08T22:05:46.851978700Z",
     "start_time": "2024-06-08T22:05:46.836421400Z"
    }
   },
   "outputs": [],
   "source": [
    "# xb = xb0 = x0 = [-0.5, 1]\n",
    "# wo1 = np.array([1, 0])\n",
    "# wo2 = np.array([0, 1])\n",
    "# e = 0.5\n",
    "# beta = 0.5\n",
    "# n = 2\n",
    "# E = 0.01"
   ]
  },
  {
   "cell_type": "code",
   "outputs": [],
   "source": [
    "xb = xb0 = x0 = [4, 4]\n",
    "wo1 = np.array([1, 0])\n",
    "wo2 = np.array([0, 1])\n",
    "e = 0.5\n",
    "beta = 0.5\n",
    "n = 2\n",
    "E = 0.00001"
   ],
   "metadata": {
    "collapsed": false,
    "ExecuteTime": {
     "end_time": "2024-06-08T22:05:46.867037200Z",
     "start_time": "2024-06-08T22:05:46.856860700Z"
    }
   },
   "id": "8caa1b32e933a2a2",
   "execution_count": 16
  },
  {
   "cell_type": "code",
   "outputs": [],
   "source": [
    "def hook_jeeves(x0, xb, e, wo1, wo2, n, E, beta):\n",
    "    i = 0\n",
    "    path = [x0.copy()]\n",
    "\n",
    "    while True:\n",
    "        j = 1\n",
    "        f0 = func(x0[0], x0[1])\n",
    "        fb = func(xb[0], xb[1])\n",
    "\n",
    "        x_next = x0 + e * wo1\n",
    "        f = func((x_next[0]), x_next[1])\n",
    "\n",
    "        if f < f0:\n",
    "            f0 = f\n",
    "        else:\n",
    "            x_next = x_next - 2 * e * wo1\n",
    "            f = func((x_next[0]), x_next[1])\n",
    "\n",
    "            if f < f0:\n",
    "                f0 = f\n",
    "            else:\n",
    "                x_next = x_next + e * wo1\n",
    "\n",
    "        if j != n:\n",
    "            j += 1\n",
    "\n",
    "            x_next = x_next + e * wo2\n",
    "            f = func((x_next[0]), x_next[1])\n",
    "\n",
    "            if f < f0:\n",
    "                f0 = f\n",
    "            else:\n",
    "                x_next = x_next - 2 * e * wo2\n",
    "                f = func((x_next[0]), x_next[1])\n",
    "\n",
    "                if f < f0:\n",
    "                    f0 = f\n",
    "                else:\n",
    "                    x_next = x_next + e * wo2\n",
    "\n",
    "            if fb > f0:\n",
    "                xb0 = xb\n",
    "                xb = x_next\n",
    "                x0 = 2 * xb - xb0\n",
    "                # print(f\"Etap roboczy: {x0} {xb} {xb0}\\n{func(*x0)} {func(*xb)} {func(*xb0)}\")\n",
    "            elif e > E:\n",
    "                e = beta * e\n",
    "                x0 = xb\n",
    "\n",
    "        path.append(x_next.copy())\n",
    "        i += 1\n",
    "        # print(x_next)\n",
    "        \n",
    "        if i in [3, 5, 7, 9, 12, 15]:\n",
    "            print(i, x_next[0], x_next[1])\n",
    "        \n",
    "        if e < E:\n",
    "            return x_next[0], x_next[1], i, path"
   ],
   "metadata": {
    "collapsed": false,
    "ExecuteTime": {
     "end_time": "2024-06-08T22:05:46.895117300Z",
     "start_time": "2024-06-08T22:05:46.872422500Z"
    }
   },
   "id": "33c98282abeace01",
   "execution_count": 17
  },
  {
   "cell_type": "code",
   "outputs": [
    {
     "name": "stdout",
     "output_type": "stream",
     "text": [
      "3 2.0 6.5\n",
      "5 1.75 6.25\n",
      "7 1.5 5.0\n",
      "1.75 5.75 8\n",
      "3 2.0 6.5\n",
      "5 1.75 6.25\n",
      "7 1.5 5.0\n",
      "9 1.6875 5.6875\n",
      "12 1.625 5.25\n",
      "15 1.640625 5.421875\n",
      "1.65625 5.5 17\n",
      "3 2.0 6.5\n",
      "5 1.75 6.25\n",
      "7 1.5 5.0\n",
      "9 1.6875 5.6875\n",
      "12 1.625 5.25\n",
      "15 1.640625 5.421875\n",
      "1.652344 5.457031 22\n",
      "3 2.0 6.5\n",
      "5 1.75 6.25\n",
      "7 1.5 5.0\n",
      "9 1.6875 5.6875\n",
      "12 1.625 5.25\n",
      "15 1.640625 5.421875\n",
      "1.651367 5.454102 28\n",
      "3 2.0 6.5\n",
      "5 1.75 6.25\n",
      "7 1.5 5.0\n",
      "9 1.6875 5.6875\n",
      "12 1.625 5.25\n",
      "15 1.640625 5.421875\n",
      "1.651382 5.454163 33\n",
      "3 2.0 6.5\n",
      "5 1.75 6.25\n",
      "7 1.5 5.0\n",
      "9 1.6875 5.6875\n",
      "12 1.625 5.25\n",
      "15 1.640625 5.421875\n",
      "1.651386 5.454159 38\n"
     ]
    }
   ],
   "source": [
    "epsilon = [0.1, 0.01, 0.001, 0.0001, 0.00001, 0.000001]\n",
    "\n",
    "for E in epsilon:\n",
    "    x, y, iterations, path = hook_jeeves(x0, xb, e, wo1, wo2, n, E, beta)\n",
    "    print(round(x, 6), round(y, 6), iterations)"
   ],
   "metadata": {
    "collapsed": false,
    "ExecuteTime": {
     "end_time": "2024-06-08T22:05:46.896687700Z",
     "start_time": "2024-06-08T22:05:46.880270100Z"
    }
   },
   "id": "946ca355f573f3e8",
   "execution_count": 18
  },
  {
   "cell_type": "code",
   "outputs": [
    {
     "name": "stdout",
     "output_type": "stream",
     "text": [
      "3 2.0 6.5\n",
      "5 1.75 6.25\n",
      "7 1.5 5.0\n",
      "9 1.6875 5.6875\n",
      "12 1.625 5.25\n",
      "15 1.640625 5.421875\n",
      "x: 1.6513862609863281\n",
      "y: 5.454158782958984\n",
      "Iteracje: 38\n"
     ]
    }
   ],
   "source": [
    "x, y, iterations, path = hook_jeeves(x0, xb, e, wo1, wo2, n, E, beta)\n",
    "path = np.array(path)\n",
    "\n",
    "print(\"x:\", x)\n",
    "print(\"y:\", y)\n",
    "print(\"Iteracje:\", iterations)"
   ],
   "metadata": {
    "collapsed": false,
    "ExecuteTime": {
     "end_time": "2024-06-08T22:05:46.901026100Z",
     "start_time": "2024-06-08T22:05:46.891942500Z"
    }
   },
   "id": "1baf92b7aa8b346c",
   "execution_count": 19
  },
  {
   "cell_type": "code",
   "outputs": [
    {
     "data": {
      "text/plain": "<Figure size 800x600 with 1 Axes>",
      "image/png": "[encoded data removed]"
     },
     "metadata": {},
     "output_type": "display_data"
    }
   ],
   "source": [
    "plt.figure(figsize=(8, 6))\n",
    "plt.scatter(path[:, 0], path[:, 1], c='blue', label='Trajektoria optymalizacji')\n",
    "plt.plot(path[:, 0], path[:, 1], 'r--')\n",
    "plt.scatter([x], [y], c='red', marker='*', label='Optymalny punkt')\n",
    "plt.title('Trajektoria optymalizacji metody Hooke’a-Jeevesa')\n",
    "plt.xlabel('x')\n",
    "plt.ylabel('y')\n",
    "plt.legend()\n",
    "plt.grid(True)\n",
    "plt.show()"
   ],
   "metadata": {
    "collapsed": false,
    "ExecuteTime": {
     "end_time": "2024-06-08T22:05:47.069823500Z",
     "start_time": "2024-06-08T22:05:46.923312700Z"
    }
   },
   "id": "f9ac39229aa4c9d4",
   "execution_count": 20
  }
 ],
 "metadata": {
  "kernelspec": {
   "display_name": "Python 3",
   "language": "python",
   "name": "python3"
  },
  "language_info": {
   "codemirror_mode": {
    "name": "ipython",
    "version": 2
   },
   "file_extension": ".py",
   "mimetype": "text/x-python",
   "name": "python",
   "nbconvert_exporter": "python",
   "pygments_lexer": "ipython2",
   "version": "2.7.6"
  }
 },
 "nbformat": 4,
 "nbformat_minor": 5
}
