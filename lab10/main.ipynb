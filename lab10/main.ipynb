{
 "cells": [
  {
   "cell_type": "code",
   "outputs": [],
   "source": [
    "import sympy as sp"
   ],
   "metadata": {
    "collapsed": false,
    "is_executing": true
   },
   "id": "6e563c067b0f1f88"
  },
  {
   "cell_type": "code",
   "outputs": [],
   "source": [
    "x1, x2, lamb = sp.symbols('x1 x2 lamb')\n",
    "\n",
    "f = x1**2 + x2**2\n",
    "h = 2*x1 + x2 - 2\n",
    "\n",
    "L = f + lamb * h"
   ],
   "metadata": {
    "collapsed": false,
    "ExecuteTime": {
     "end_time": "2024-05-21T10:21:29.838639100Z",
     "start_time": "2024-05-21T10:21:29.790700100Z"
    }
   },
   "id": "329356c60012b804",
   "execution_count": 2
  },
  {
   "cell_type": "code",
   "outputs": [],
   "source": [
    "dL_dx1 = sp.diff(L, x1)\n",
    "dL_dx2 = sp.diff(L, x2)\n",
    "dL_dlamb = sp.diff(L, lamb)"
   ],
   "metadata": {
    "collapsed": false,
    "ExecuteTime": {
     "end_time": "2024-05-21T10:21:29.856580300Z",
     "start_time": "2024-05-21T10:21:29.838639100Z"
    }
   },
   "id": "47fb1a0e84d7d31e",
   "execution_count": 3
  },
  {
   "cell_type": "code",
   "outputs": [
    {
     "data": {
      "text/plain": "{lamb: -4/5, x1: 4/5, x2: 2/5}"
     },
     "execution_count": 4,
     "metadata": {},
     "output_type": "execute_result"
    }
   ],
   "source": [
    "solution = sp.solve([dL_dx1, dL_dx2, dL_dlamb], (x1, x2, lamb))\n",
    "solution"
   ],
   "metadata": {
    "collapsed": false,
    "ExecuteTime": {
     "end_time": "2024-05-21T10:21:29.875041Z",
     "start_time": "2024-05-21T10:21:29.856580300Z"
    }
   },
   "id": "a1720bbce7221957",
   "execution_count": 4
  },
  {
   "cell_type": "code",
   "outputs": [],
   "source": [
    "x, y, h, lamb = sp.symbols('x y h lamb')\n",
    "\n",
    "f = x * y * h\n",
    "g = 6 - x - y - h\n",
    "\n",
    "L = f + lamb * g"
   ],
   "metadata": {
    "collapsed": false,
    "ExecuteTime": {
     "end_time": "2024-05-21T10:21:29.891679500Z",
     "start_time": "2024-05-21T10:21:29.876485400Z"
    }
   },
   "id": "644e2482b5586552",
   "execution_count": 5
  },
  {
   "cell_type": "code",
   "outputs": [],
   "source": [
    "dL_dx = sp.diff(L, x)\n",
    "dL_dy = sp.diff(L, y)\n",
    "dL_dh = sp.diff(L, h)\n",
    "dL_dlamb = sp.diff(L, lamb)"
   ],
   "metadata": {
    "collapsed": false,
    "ExecuteTime": {
     "end_time": "2024-05-21T10:21:29.934944Z",
     "start_time": "2024-05-21T10:21:29.891679500Z"
    }
   },
   "id": "56547bd392095942",
   "execution_count": 6
  },
  {
   "cell_type": "code",
   "outputs": [
    {
     "data": {
      "text/plain": "[(0, 6, 0, 0), (6, 0, 0, 0), (2, 2, 2, 4), (0, 0, 6, 0)]"
     },
     "execution_count": 7,
     "metadata": {},
     "output_type": "execute_result"
    }
   ],
   "source": [
    "solution = sp.solve([dL_dx, dL_dy, dL_dh, dL_dlamb], (x, y, h, lamb))\n",
    "solution"
   ],
   "metadata": {
    "collapsed": false,
    "ExecuteTime": {
     "end_time": "2024-05-21T10:21:30.083753Z",
     "start_time": "2024-05-21T10:21:29.938464600Z"
    }
   },
   "id": "c9eb987bbe8a165a",
   "execution_count": 7
  }
 ],
 "metadata": {
  "kernelspec": {
   "display_name": "Python 3",
   "language": "python",
   "name": "python3"
  },
  "language_info": {
   "codemirror_mode": {
    "name": "ipython",
    "version": 2
   },
   "file_extension": ".py",
   "mimetype": "text/x-python",
   "name": "python",
   "nbconvert_exporter": "python",
   "pygments_lexer": "ipython2",
   "version": "2.7.6"
  }
 },
 "nbformat": 4,
 "nbformat_minor": 5
}
