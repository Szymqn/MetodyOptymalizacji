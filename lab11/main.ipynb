{
 "cells": [
  {
   "cell_type": "code",
   "execution_count": 1,
   "id": "initial_id",
   "metadata": {
    "collapsed": true,
    "ExecuteTime": {
     "end_time": "2024-06-03T22:04:49.169926500Z",
     "start_time": "2024-06-03T22:04:49.111846800Z"
    }
   },
   "outputs": [],
   "source": [
    "import numpy as np"
   ]
  },
  {
   "cell_type": "code",
   "outputs": [],
   "source": [
    "def pivot(tableau, row, col):\n",
    "        tableau[row, :] /= tableau[row, col]    \n",
    "        for r in range(len(tableau)):\n",
    "            if r != row:\n",
    "                tableau[r, :] -= tableau[r, col] * tableau[row, :]"
   ],
   "metadata": {
    "collapsed": false,
    "ExecuteTime": {
     "end_time": "2024-06-03T22:04:49.175549400Z",
     "start_time": "2024-06-03T22:04:49.169926500Z"
    }
   },
   "id": "12ba344913d2e4f",
   "execution_count": 2
  },
  {
   "cell_type": "code",
   "outputs": [],
   "source": [
    "def simplex(c, A, b, signs, maximize=True):\n",
    "    n_vars = len(c)\n",
    "    n_constraints = len(b)\n",
    "\n",
    "    tableau = np.zeros((n_constraints + 1, n_vars + n_constraints + 1))\n",
    "\n",
    "    for i in range(n_constraints):\n",
    "        tableau[i, :n_vars] = A[i]\n",
    "        if signs[i] == '<=':\n",
    "            tableau[i, n_vars + i] = 1  \n",
    "        elif signs[i] == '>=':\n",
    "            tableau[i, n_vars + i] = -1 \n",
    "        else:\n",
    "            raise ValueError(\"Invalid sign in constraint\")\n",
    "\n",
    "    tableau[:-1, -1] = b\n",
    "\n",
    "    if maximize:\n",
    "        tableau[-1, :n_vars] = -c\n",
    "    else:\n",
    "        tableau[-1, :n_vars] = c\n",
    "\n",
    "    while np.any(tableau[-1, :-1] < 0):\n",
    "        col = np.argmin(tableau[-1, :-1])\n",
    "        if np.all(tableau[:-1, col] <= 0):\n",
    "            raise Exception(\"Linear program is unbounded.\")\n",
    "        ratios = np.divide(tableau[:-1, -1], tableau[:-1, col], out=np.full_like(tableau[:-1, -1], np.inf), where=tableau[:-1, col] > 0)\n",
    "        row = np.argmin(ratios)\n",
    "        pivot(tableau, row, col)\n",
    "\n",
    "    solution = np.zeros(n_vars)\n",
    "    for i in range(n_vars):\n",
    "        if np.sum(tableau[:, i] == 1) == 1 and np.sum(tableau[:, i] == 0) == len(tableau) - 1:\n",
    "            row = np.where(tableau[:, i] == 1)[0][0]\n",
    "            solution[i] = tableau[row, -1]\n",
    "\n",
    "    objective_value = tableau[-1, -1]\n",
    "    if not maximize:\n",
    "        objective_value = -objective_value\n",
    "\n",
    "    return solution, objective_value"
   ],
   "metadata": {
    "collapsed": false,
    "ExecuteTime": {
     "end_time": "2024-06-03T22:04:49.184201100Z",
     "start_time": "2024-06-03T22:04:49.175549400Z"
    }
   },
   "id": "4536f7616196f496",
   "execution_count": 3
  },
  {
   "cell_type": "code",
   "outputs": [],
   "source": [
    "c = np.array([1, 2]) \n",
    "A = np.array([[1, 1], [-2, 1]])  \n",
    "b = np.array([10, 4])\n",
    "signs = ['<=', '<=']"
   ],
   "metadata": {
    "collapsed": false,
    "ExecuteTime": {
     "end_time": "2024-06-03T22:04:49.191052400Z",
     "start_time": "2024-06-03T22:04:49.186207Z"
    }
   },
   "id": "7488b539c8a209fe",
   "execution_count": 4
  },
  {
   "cell_type": "code",
   "outputs": [],
   "source": [
    "# c = np.array([2, 18])\n",
    "# A = np.array([[80, 100], [20, 200], [1, 0]])\n",
    "# b = np.array([100, 300, 1.5])   \n",
    "# signs = ['>=', '<=', '<=']"
   ],
   "metadata": {
    "collapsed": false,
    "ExecuteTime": {
     "end_time": "2024-06-03T22:04:49.200835700Z",
     "start_time": "2024-06-03T22:04:49.194751700Z"
    }
   },
   "id": "c1aa62015bcb6559",
   "execution_count": 5
  },
  {
   "cell_type": "code",
   "outputs": [
    {
     "name": "stdout",
     "output_type": "stream",
     "text": [
      "Solution: [2. 8.]\n",
      "Objective value: 18.0\n"
     ]
    }
   ],
   "source": [
    "solution, objective_value = simplex(c, A, b, signs, maximize=True)\n",
    "print(\"Solution:\", solution)\n",
    "print(\"Objective value:\", objective_value)"
   ],
   "metadata": {
    "collapsed": false,
    "ExecuteTime": {
     "end_time": "2024-06-03T22:04:49.205206800Z",
     "start_time": "2024-06-03T22:04:49.198837300Z"
    }
   },
   "id": "7e4e7753bc8fbab6",
   "execution_count": 6
  }
 ],
 "metadata": {
  "kernelspec": {
   "display_name": "Python 3",
   "language": "python",
   "name": "python3"
  },
  "language_info": {
   "codemirror_mode": {
    "name": "ipython",
    "version": 2
   },
   "file_extension": ".py",
   "mimetype": "text/x-python",
   "name": "python",
   "nbconvert_exporter": "python",
   "pygments_lexer": "ipython2",
   "version": "2.7.6"
  }
 },
 "nbformat": 4,
 "nbformat_minor": 5
}
